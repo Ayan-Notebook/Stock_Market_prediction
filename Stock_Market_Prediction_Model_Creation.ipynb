{
 "cells": [
  {
   "cell_type": "code",
   "execution_count": null,
   "id": "88d67c13-1dca-451c-85d5-eb234183c342",
   "metadata": {},
   "outputs": [],
   "source": [
    "import numpy as np\n",
    "import pandas as pd\n",
    "import matplotlib.pyplot as plt\n",
    "import yfinance as yf"
   ]
  },
  {
   "cell_type": "code",
   "execution_count": null,
   "id": "f3bc102c-1442-4cae-9093-f77f2b7b7e0c",
   "metadata": {},
   "outputs": [],
   "source": [
    "start = '2013-01-01'\n",
    "end = '2023-12-21'\n",
    "stock = 'GOOG'\n",
    "\n",
    "data = yf.download(stock, start, end)"
   ]
  },
  {
   "cell_type": "code",
   "execution_count": null,
   "id": "8657c12a-ec44-4ea9-80c9-7ecbec9b0084",
   "metadata": {},
   "outputs": [],
   "source": [
    "data.reset_index(inplace=True)"
   ]
  },
  {
   "cell_type": "code",
   "execution_count": null,
   "id": "e8fadd81-946b-47fc-b014-8ecf059302ce",
   "metadata": {},
   "outputs": [],
   "source": [
    "data"
   ]
  },
  {
   "cell_type": "code",
   "execution_count": null,
   "id": "8a478e83-6aee-4809-9405-be6f8b65b16a",
   "metadata": {},
   "outputs": [],
   "source": [
    "ma_100_days = data.Close.rolling(100).mean()"
   ]
  },
  {
   "cell_type": "code",
   "execution_count": null,
   "id": "fc840124-ef3e-40b0-9e74-aa5a174c4c50",
   "metadata": {},
   "outputs": [],
   "source": [
    "plt.figure(figsize=(12, 8))\n",
    "plt.plot(data['Date'], ma_100_days, 'r', label='100-day Moving Average')\n",
    "plt.plot(data['Date'], data['Close'], 'g', label='Closing Price')\n",
    "plt.title('100-day Moving Average and Closing Price of Google Stock')\n",
    "plt.xlabel('Date')\n",
    "plt.ylabel('Price (USD)')\n",
    "plt.legend()\n",
    "plt.grid(True)\n",
    "plt.show()"
   ]
  },
  {
   "cell_type": "code",
   "execution_count": null,
   "id": "1158c05f-1a2c-41f8-8add-85720074cdcd",
   "metadata": {},
   "outputs": [],
   "source": [
    "ma_200_days = data.Close.rolling(200).mean()"
   ]
  },
  {
   "cell_type": "code",
   "execution_count": null,
   "id": "97a1b79b-2302-43d7-883a-a0a255c864bf",
   "metadata": {},
   "outputs": [],
   "source": [
    "plt.figure(figsize=(12, 8))\n",
    "plt.plot(data['Date'], ma_100_days, 'r', label='100-day Moving Average')\n",
    "plt.plot(data['Date'], ma_200_days, 'b', label='200-day Moving Average')\n",
    "plt.plot(data['Date'], data['Close'], 'g', label='Closing Price')\n",
    "plt.title('100-day and 200-day Moving Averages and Closing Price of Google Stock')\n",
    "plt.xlabel('Date')\n",
    "plt.ylabel('Price (USD)')\n",
    "plt.legend()\n",
    "plt.grid(True)\n",
    "plt.show()"
   ]
  },
  {
   "cell_type": "code",
   "execution_count": null,
   "id": "0ac073de-1a30-487c-a1f8-c809cbba06db",
   "metadata": {},
   "outputs": [],
   "source": [
    "data.dropna(inplace=True)"
   ]
  },
  {
   "cell_type": "code",
   "execution_count": null,
   "id": "64246466-177b-46f9-b4eb-6ee5005bfd6b",
   "metadata": {},
   "outputs": [],
   "source": [
    "data_train = pd.DataFrame(data.Close[0: int(len(data)*0.80)])\n",
    "data_test = pd.DataFrame(data.Close[int(len(data)*0.80): len(data)])"
   ]
  },
  {
   "cell_type": "code",
   "execution_count": null,
   "id": "0f4c0b4b-2b5e-4f62-bd84-47a86ed3da3e",
   "metadata": {},
   "outputs": [],
   "source": [
    "data_train.shape[0]"
   ]
  },
  {
   "cell_type": "code",
   "execution_count": null,
   "id": "0a609554-633d-4edf-abc1-21bd874a3cd1",
   "metadata": {},
   "outputs": [],
   "source": [
    "data_test.shape[0]"
   ]
  },
  {
   "cell_type": "code",
   "execution_count": null,
   "id": "d5144e93-eab7-479f-9fde-9bf8c5786dc6",
   "metadata": {},
   "outputs": [],
   "source": [
    "from sklearn.preprocessing import MinMaxScaler\n",
    "scaler = MinMaxScaler(feature_range=(0,1))"
   ]
  },
  {
   "cell_type": "code",
   "execution_count": null,
   "id": "4c2793bd-1def-45f7-8fd2-9115eed1c2c1",
   "metadata": {},
   "outputs": [],
   "source": [
    "data_train_scale = scaler.fit_transform(data_train)"
   ]
  },
  {
   "cell_type": "code",
   "execution_count": null,
   "id": "d55d63c2-132a-40b5-9398-e576ceba14fd",
   "metadata": {},
   "outputs": [],
   "source": [
    "x = []\n",
    "y = []\n",
    "\n",
    "for i in range(100, data_train_scale.shape[0]):\n",
    "    x.append(data_train_scale[i-100:i])\n",
    "    y.append(data_train_scale[i,0])\n",
    "    "
   ]
  },
  {
   "cell_type": "code",
   "execution_count": null,
   "id": "998369e6-f1ad-4cf5-af58-0aa5b7aa315c",
   "metadata": {},
   "outputs": [],
   "source": [
    "x, y = np.array(x), np.array(y)"
   ]
  },
  {
   "cell_type": "code",
   "execution_count": null,
   "id": "3c9c6717-e792-4206-960f-0689203555ca",
   "metadata": {},
   "outputs": [],
   "source": [
    "import tensorflow as tf\n",
    "from tensorflow import keras\n",
    "from keras.layers import Dense, Dropout, LSTM\n",
    "from keras.models import Sequential"
   ]
  },
  {
   "cell_type": "code",
   "execution_count": null,
   "id": "14867cd4-c1ed-4cf9-b339-245bfaec0852",
   "metadata": {},
   "outputs": [],
   "source": [
    "model = Sequential()\n",
    "model.add(LSTM(units = 50, activation = 'relu', return_sequences = True,\n",
    "    input_shape = ((x.shape[1],1))))\n",
    "model.add(Dropout(0.2))\n",
    "\n",
    "model.add(LSTM(units = 60, activation='relu', return_sequences = True))\n",
    "model.add(Dropout(0.3))\n",
    "\n",
    "model.add(LSTM(units = 80, activation = 'relu', return_sequences = True))\n",
    "model.add(Dropout(0.4))\n",
    "\n",
    "model.add(LSTM(units = 120, activation = 'relu'))\n",
    "model.add(Dropout(0.5))\n",
    "\n",
    "model.add(Dense(units =1))"
   ]
  },
  {
   "cell_type": "code",
   "execution_count": null,
   "id": "c69edcc2-b11d-4702-8a6c-f6a6e677e79a",
   "metadata": {},
   "outputs": [],
   "source": [
    "model.compile(optimizer = 'adam', loss = 'mean_squared_error')"
   ]
  },
  {
   "cell_type": "code",
   "execution_count": null,
   "id": "f36e439a-0106-4108-9630-7cdd7e5428e4",
   "metadata": {},
   "outputs": [],
   "source": [
    "model.fit(x,y, epochs = 50, batch_size =32, verbose =1)"
   ]
  },
  {
   "cell_type": "code",
   "execution_count": null,
   "id": "62f9decd-83a6-4c03-8963-dc3298b2a104",
   "metadata": {},
   "outputs": [],
   "source": [
    "model.summary()"
   ]
  },
  {
   "cell_type": "code",
   "execution_count": null,
   "id": "89cf9dc7-4e14-4c80-82bc-d6dcac8c98a2",
   "metadata": {},
   "outputs": [],
   "source": [
    "pas_100_days = data_train.tail(100)"
   ]
  },
  {
   "cell_type": "code",
   "execution_count": null,
   "id": "67ef7a1e-63cc-4874-9b61-634026572822",
   "metadata": {},
   "outputs": [],
   "source": [
    "data_test = pd.concat([pas_100_days, data_test], ignore_index=True)"
   ]
  },
  {
   "cell_type": "code",
   "execution_count": null,
   "id": "7a0512e4-0eaf-4137-b61d-8bb0e48ca041",
   "metadata": {},
   "outputs": [],
   "source": [
    "data_test_scale  =  scaler.fit_transform(data_test)"
   ]
  },
  {
   "cell_type": "code",
   "execution_count": null,
   "id": "536de9d0-2cc7-41dd-b500-affd3e3fec9d",
   "metadata": {},
   "outputs": [],
   "source": [
    "x = []\n",
    "y = []\n",
    "\n",
    "for i in range(100, data_test_scale.shape[0]):\n",
    "    x.append(data_test_scale[i-100:i])\n",
    "    y.append(data_test_scale[i,0])\n",
    "x, y = np.array(x), np.array(y)"
   ]
  },
  {
   "cell_type": "code",
   "execution_count": null,
   "id": "4602f57f-8832-4bf6-a50e-bb5164ff7872",
   "metadata": {},
   "outputs": [],
   "source": [
    "y_predict = model.predict(x)"
   ]
  },
  {
   "cell_type": "code",
   "execution_count": null,
   "id": "ca2d2d64-b69a-4eb3-b4f6-5356bfb5b74a",
   "metadata": {},
   "outputs": [],
   "source": [
    "scale =1/scaler.scale_"
   ]
  },
  {
   "cell_type": "code",
   "execution_count": null,
   "id": "b3e3794a-785d-4ac8-96a3-70fab6259f1c",
   "metadata": {},
   "outputs": [],
   "source": [
    "y_predict = y_predict*scale"
   ]
  },
  {
   "cell_type": "code",
   "execution_count": null,
   "id": "5acb458b-7488-4860-9ccd-8999d67510f7",
   "metadata": {},
   "outputs": [],
   "source": [
    "y = y*scale"
   ]
  },
  {
   "cell_type": "code",
   "execution_count": null,
   "id": "6ab280be-9494-4ea1-baf2-45fc38130366",
   "metadata": {},
   "outputs": [],
   "source": [
    "plt.figure(figsize=(14, 8))\n",
    "plt.plot(y , color='g', linestyle='-', marker='o', markersize=2, label='Original Price')\n",
    "plt.plot(y_predict, color='r', linestyle='--', marker='x', markersize=2, label='Predicted Price')\n",
    "plt.title('Original and Predicted Stock Prices')\n",
    "plt.xlabel('Time')\n",
    "plt.ylabel('Price (USD)')\n",
    "plt.legend()\n",
    "plt.grid(True)\n",
    "plt.show()"
   ]
  },
  {
   "cell_type": "code",
   "execution_count": null,
   "id": "3e198de4",
   "metadata": {},
   "outputs": [],
   "source": [
    "from sklearn.linear_model import LinearRegression"
   ]
  },
  {
   "cell_type": "code",
   "execution_count": null,
   "id": "e1d4fb20",
   "metadata": {},
   "outputs": [],
   "source": [
    "x_train_lr = np.array([data_train_scale[i - 100:i].flatten() \n",
    "                    for i in range(100, data_train_scale.shape[0])])\n",
    "y_train_lr = np.array([data_train_scale[i, 0] \n",
    "                    for i in range(100, data_train_scale.shape[0])])\n"
   ]
  },
  {
   "cell_type": "code",
   "execution_count": null,
   "id": "f97cf113",
   "metadata": {},
   "outputs": [],
   "source": [
    "x_test_lr = np.array([data_test_scale[i - 100:i].flatten() \n",
    "                    for i in range(100, data_test_scale.shape[0])])\n",
    "y_test_lr = np.array([data_test_scale[i, 0] \n",
    "                    for i in range(100, data_test_scale.shape[0])])"
   ]
  },
  {
   "cell_type": "code",
   "execution_count": null,
   "id": "fa493fdc",
   "metadata": {},
   "outputs": [],
   "source": [
    "lr_model = LinearRegression()\n",
    "lr_model.fit(x_train_lr, y_train_lr)"
   ]
  },
  {
   "cell_type": "code",
   "execution_count": null,
   "id": "fedff73e",
   "metadata": {},
   "outputs": [],
   "source": [
    "y_predict_lr = lr_model.predict(x_test_lr)"
   ]
  },
  {
   "cell_type": "code",
   "execution_count": null,
   "id": "75ed373e",
   "metadata": {},
   "outputs": [],
   "source": [
    "x_test_lr = []\n",
    "y_test_lr = []\n",
    "\n",
    "for i in range(100, len(data_test)):\n",
    "    x_test_lr.append(data_test.values[i - 100: i, 0])\n",
    "    y_test_lr.append(data_test.values[i, 0])\n",
    "    \n",
    "_test_lr, y_test_lr = np.array(x_test_lr), np.array(y_test_lr)"
   ]
  },
  {
   "cell_type": "code",
   "execution_count": null,
   "id": "6038e050",
   "metadata": {},
   "outputs": [],
   "source": [
    "scale = 1 / scaler.scale_[0]\n",
    "y_predict_lr = y_predict_lr * scale\n",
    "y_test_lr = y_test_lr * scale"
   ]
  },
  {
   "cell_type": "code",
   "execution_count": null,
   "id": "aaf4ef84",
   "metadata": {},
   "outputs": [],
   "source": [
    "plt.figure(figsize=(14, 8))\n",
    "plt.plot(y_test_lr, \"g\", label=\"Original Price\", linewidth=2)\n",
    "plt.plot(y_predict_lr, \"r\", label=\"Predicted Price (Linear Regression)\", linestyle='--', linewidth=2)\n",
    "plt.title('Stock Price Prediction using Linear Regression')\n",
    "plt.xlabel(\"Time\")\n",
    "plt.ylabel(\"Price\")\n",
    "plt.grid(True)\n",
    "plt.legend(loc=\"best\")\n",
    "plt.show()"
   ]
  },
  {
   "cell_type": "code",
   "execution_count": null,
   "id": "9dc9082c",
   "metadata": {},
   "outputs": [],
   "source": [
    "from sklearn.metrics import mean_squared_error, r2_score"
   ]
  },
  {
   "cell_type": "code",
   "execution_count": null,
   "id": "43babd1a",
   "metadata": {},
   "outputs": [],
   "source": [
    "mse = mean_squared_error(y_test_lr, y_predict_lr)\n",
    "r2 = r2_score(y_test_lr, y_predict_lr)\n",
    "print(f'Mean Squared Error: {mse}')\n",
    "print(f'R-squared: {r2}')"
   ]
  },
  {
   "cell_type": "code",
   "execution_count": null,
   "id": "c5750f60",
   "metadata": {},
   "outputs": [],
   "source": [
    "from sklearn.linear_model import LogisticRegression\n",
    "from sklearn.metrics import accuracy_score"
   ]
  },
  {
   "cell_type": "code",
   "execution_count": null,
   "id": "5d7a4467",
   "metadata": {},
   "outputs": [],
   "source": [
    "data['Target'] = np.where(data['Close'].shift(-1) > data['Close'], 1, 0)\n",
    "data.dropna(inplace=True)\n",
    "\n",
    "data_train_lr = data[0:int(len(data) * 0.80)]\n",
    "data_test_lr = data[int(len(data) * 0.80):]"
   ]
  },
  {
   "cell_type": "code",
   "execution_count": null,
   "id": "eabc9245",
   "metadata": {},
   "outputs": [],
   "source": [
    "x_train_lr = data_train_lr[['Open', 'High', 'Low', 'Close']]\n",
    "y_train_lr = data_train_lr['Target']\n",
    "\n",
    "x_test_lr = data_test_lr[['Open', 'High', 'Low', 'Close']]\n",
    "y_test_lr = data_test_lr['Target']"
   ]
  },
  {
   "cell_type": "code",
   "execution_count": null,
   "id": "52e5777f",
   "metadata": {},
   "outputs": [],
   "source": [
    "logistic_model = LogisticRegression()\n",
    "logistic_model.fit(x_train_lr, y_train_lr)"
   ]
  },
  {
   "cell_type": "code",
   "execution_count": null,
   "id": "0d772189",
   "metadata": {},
   "outputs": [],
   "source": [
    "y_predict_lr = logistic_model.predict(x_test_lr)"
   ]
  },
  {
   "cell_type": "code",
   "execution_count": null,
   "id": "8350cfe9",
   "metadata": {},
   "outputs": [],
   "source": [
    "accuracy = accuracy_score(y_test_lr, y_predict_lr)\n",
    "accuracy_percentage = accuracy * 100\n",
    "print(f'Accuracy of Logistic Regression: {accuracy_percentage:.2f}%')"
   ]
  },
  {
   "cell_type": "code",
   "execution_count": null,
   "id": "41666e73",
   "metadata": {},
   "outputs": [],
   "source": [
    "model.save('Stock Predictions Model.keras')"
   ]
  }
 ],
 "metadata": {
  "kernelspec": {
   "display_name": "Python 3 (ipykernel)",
   "language": "python",
   "name": "python3"
  },
  "language_info": {
   "codemirror_mode": {
    "name": "ipython",
    "version": 3
   },
   "file_extension": ".py",
   "mimetype": "text/x-python",
   "name": "python",
   "nbconvert_exporter": "python",
   "pygments_lexer": "ipython3",
   "version": "3.11.4"
  }
 },
 "nbformat": 4,
 "nbformat_minor": 5
}
